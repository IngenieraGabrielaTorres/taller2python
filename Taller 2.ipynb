{
 "cells": [
  {
   "cell_type": "markdown",
   "id": "5002e2f4",
   "metadata": {},
   "source": [
    "# Taller 2\n",
    "\n",
    "Diplomado Python aplicado a la ingenieria\n",
    "\n",
    "### *Regresión Robotnik*\n",
    "\n",
    "Estudiante: Gabriela Torres Ramos\n",
    "    \n",
    "ID No.502193\n",
    "\n",
    "Upb"
   ]
  },
  {
   "cell_type": "markdown",
   "id": "948483e4",
   "metadata": {},
   "source": [
    "# Regresión Robotnik\n",
    "    \n",
    "Ejercicio inspirado en Reggie's Linear Regression de Codecademy (2022) y referencias a películas y videojuegos.\n",
    "\n",
    "El Dr. Robotnik ha sido contratado para capturar a un erizo azúl que está provocando fluctuaciones eléctricas en un pueblo lejano de Norteamérica. Se sospecha que su origen sea de naturaleza extraterrestre. Al verse frente a frente, Robotnik se mostró fascinado por la criatura y decidió capturarla para sus experimentos. Desafortunadamente, el erizo demostró poseer una velocidad nunca antes registrada por un organismo vivo, además de la capacidad de liberar energía a medida que incrementaba su velocidad.\n",
    "\n",
    "Después de una aplastante derrota a todos sus drones, Robotnik regresa a su laboratorio para diseñar un dispositivo que pueda soportar la fuerza de choque del erizo. Para ello, necesitará modelar la relación entre la velocidad y la cantidad de energía liberada por el erizo a través de una regresión lineal a partir de los datos recolectados por sus destruidos drones.\n",
    "\n",
    "Una regresión lineal se basa en un grupo de puntos sobre una gráfica sobre la cual se encuentra una línea que se aproxime a estos puntos minimizando el error o la distancia de cada punto hacia la línea.\n",
    "\n",
    "El objetivo de este taller es utilizar ciclos, listas y operaciones aritméticas para crear una función que encuentre la línea de mejor ajuste para una serie de datos dados (en este caso, la velocidad y energía liberada por el erizo)."
   ]
  },
  {
   "cell_type": "markdown",
   "id": "2ae1ab60",
   "metadata": {},
   "source": [
    "# Parte 1: Cálculo del Error\n",
    "\n",
    "La línea que deseamos encontrar es de la forma:\n",
    "    \n",
    "                       y=mx+b\n",
    "\n",
    "donde m es la pendiente de la linea y b eñ interceptodon donde la linea se cruza con el eje y.\n",
    "\n",
    "Crea una función llamada get_y() que reciba como parámetros m, b y x y retorne el valor de y para esa x."
   ]
  },
  {
   "cell_type": "code",
   "execution_count": 9,
   "id": "337c067c",
   "metadata": {},
   "outputs": [],
   "source": [
    "# Función get_y().\n",
    "def get_y(m, b, x):\n",
    "    return m*x+b\n"
   ]
  },
  {
   "cell_type": "markdown",
   "id": "cf4083ab",
   "metadata": {},
   "source": [
    "# Robotnik quiere probar muchos valores de m y b para determinar cuál produce la línea con el menor error.\n",
    "\n",
    "Para calcular el error entre un punto y una línea, requiere una función llamada calculate_error(), que toma m, b y un punto llamado point que es una pareja de valores (x, y) (la velocidad y la energía medidas por los drones). La función debe retornar la distancia entre la línea y el punto.\n",
    "\n",
    "Para encontrar esta distancia, considere lo siguiente:\n",
    "\n",
    "1. Obtenga el valor de  del punto y almacénelo en una variable llamada x_point.\n",
    "\n",
    "2. Obtenga el valor de  del punto y almacénelo en una variable llamada y_point.\n",
    "\n",
    "3. Utilice la función get_y() para obtener el valor de  calculado con el valor de x_point.\n",
    "\n",
    "4. Calcule la diferencia entre la  calculada con la función get_y() y y_point}\n",
    "\n",
    "5. Retorne el valor absoluto de la distancia (puede usar la función abs() para hacer esto)."
   ]
  },
  {
   "cell_type": "code",
   "execution_count": 10,
   "id": "f7224b81",
   "metadata": {},
   "outputs": [],
   "source": [
    "# Función calculate_error(m, b, point)\n",
    "\n",
    "def calculate_error(m, b, point):\n",
    "    x_point, y_point = point\n",
    "    y = get_y(m, b, x_point)\n",
    "    diff = y - y_point\n",
    "    return abs(diff)\n"
   ]
  },
  {
   "cell_type": "markdown",
   "id": "9637001b",
   "metadata": {},
   "source": [
    "Probemos la función:"
   ]
  },
  {
   "cell_type": "code",
   "execution_count": 13,
   "id": "cf1ed492",
   "metadata": {},
   "outputs": [
    {
     "name": "stdout",
     "output_type": "stream",
     "text": [
      "0\n",
      "1\n",
      "1\n",
      "5\n"
     ]
    }
   ],
   "source": [
    "#En esta línea, y = x, así que el punto (3, 3) debería estar sobre la línea. El error debe ser cero (0):\n",
    "print(calculate_error(1, 0, (3, 3)))\n",
    "\n",
    "#El punto (3, 4) debería estar a 1 unidad de distancia de la línea y = x:\n",
    "print(calculate_error(1, 0, (3, 4)))\n",
    "\n",
    "#El punto (3, 3) debería estar a 1 unidad de distancia de la línea y = x - 1:\n",
    "print(calculate_error(1, -1, (3, 3)))\n",
    "\n",
    "#El punto (3, 3) debería estar a 5 unidades de distancia de la línea y = -x + 1:\n",
    "print(calculate_error(-1, 1, (3, 3)))"
   ]
  },
  {
   "cell_type": "markdown",
   "id": "3371d346",
   "metadata": {},
   "source": [
    "Los datos de velocidad y energía recolectados por los drones de Robotnik han sido almacenados en una lista llamada datapoints:"
   ]
  },
  {
   "cell_type": "code",
   "execution_count": 15,
   "id": "f82f8432",
   "metadata": {},
   "outputs": [],
   "source": [
    "datapoints = [(1, 2), (2, 0), (3, 4), (4, 4), (5, 3)]"
   ]
  },
  {
   "cell_type": "markdown",
   "id": "af491fa3",
   "metadata": {},
   "source": [
    "El primer registro, (1, 2), significa que el erizo produjo una cantidad de energía de 2GJ (1GJ=277.8kWh) a una velocidad de 1m/s. A una velocidad de 4m/s produjo 4GJ.\n",
    "\n",
    "A medida que buscamos una línea que se ajuste a estos datos, necesitaremos una función llamada calculate_all_error, que toma la m y la b que describe una línea, y un conjunto de datos datapoints.\n",
    "\n",
    "La función calculate_all_error debería iterar a través de cada pointen points y calcular el error de ese punto hacia la línea (usando calculate_error). La función debe mantener un acumulador del error total, y luego retornar este valor al terminar de evaluar todos los puntos."
   ]
  },
  {
   "cell_type": "code",
   "execution_count": 38,
   "id": "e1ffa599",
   "metadata": {},
   "outputs": [],
   "source": [
    "# Función calculate_all_error(m, b, datapoints):\n",
    "def calculate_all_error(m, b, datapoints):\n",
    "    totalErrorCounter = 0\n",
    "    for i in range(0, len(datapoints)):\n",
    "        error = calculate_error(m, b, datapoints[i])\n",
    "        totalErrorCounter += error\n",
    "    return totalErrorCounter"
   ]
  },
  {
   "cell_type": "markdown",
   "id": "e77defd2",
   "metadata": {},
   "source": [
    "Probemos la función:"
   ]
  },
  {
   "cell_type": "code",
   "execution_count": 39,
   "id": "10fcb4a8",
   "metadata": {},
   "outputs": [
    {
     "name": "stdout",
     "output_type": "stream",
     "text": [
      "1\n",
      "4\n",
      "4\n",
      "18\n"
     ]
    }
   ],
   "source": [
    "#Cada punto en este conjunto se encuentra sobre la línea y=x, por lo que el error total debería ser cero (0):\n",
    "datapoints = [(1, 1), (3, 3), (5, 5), (-1, -1)]\n",
    "print(calculate_all_error(1, 0, datapoints))\n",
    "\n",
    "#Cada punto en este conjunto está a 1 unidad de distancia de y = x + 1, por lo que el error total debería ser de cuatro (4):\n",
    "datapoints = [(1, 1), (3, 3), (5, 5), (-1, -1)]\n",
    "print(calculate_all_error(1, 1, datapoints))\n",
    "\n",
    "#Cada punto en este conjunto está a 1 unidad de distancia de y = x - 1, por lo que el error total debería ser de cuatro (4):\n",
    "datapoints = [(1, 1), (3, 3), (5, 5), (-1, -1)]\n",
    "print(calculate_all_error(1, -1, datapoints))\n",
    "\n",
    "#Los puntos en este conjunto están a 1, 5, 9, y 3 unidades de distancia de y = -x + 1, respectivamente, \n",
    "#por lo que el error total debería ser de 1 + 5 + 9 + 3 = 18\n",
    "datapoints = [(1, 1), (3, 3), (5, 5), (-1, -1)]\n",
    "print(calculate_all_error(-1, 1, datapoints))"
   ]
  },
  {
   "cell_type": "markdown",
   "id": "51cc1ad3",
   "metadata": {},
   "source": [
    "Robotnik parece satisfecho. Parece que ya tenemos una función que toma una línea y los datos de los drones, y retornar qué tanto error se produce cuando tratamos de encajar la línea con los datos.\n",
    "\n",
    "El siguiente paso es encontrar la m y la b que minimiza este error, y así, la que mejor se ajusta a los datos."
   ]
  },
  {
   "cell_type": "markdown",
   "id": "1a62e39b",
   "metadata": {},
   "source": [
    "# Parte 2: Probando pendientes e interceptos\n",
    "\n",
    "Robotnik considera que la mejor forma de encontrar la línea que mejor se ajusta a los datos es a punta de ensayo y error. Para esto, se debe probar muchas pendientes diferentes (valores de m) y muchos interceptos diferentes (valores de b), y ver cuál de ellos produce el error más pequeño para los registros de los drones.\n",
    "\n",
    "Usando list comprehension, crea una lista de los posibles m a probar. Haz que la lisa possible_ms vaya de -10 a 10 (inclusiva) en incrementos de 0.1.\n",
    "\n",
    "Pista: (para ver la pista, haz doble clic en la celda para ver el texto oculto)"
   ]
  },
  {
   "cell_type": "code",
   "execution_count": 20,
   "id": "de326167",
   "metadata": {},
   "outputs": [],
   "source": [
    "# possible_ms = []\n",
    "possible_ms = [i*0.1 for i in range(-100, 101)]"
   ]
  },
  {
   "cell_type": "markdown",
   "id": "11f50191",
   "metadata": {},
   "source": [
    "Ahora, crea una lista de los posibles b (possible_bs) entre -20 y 20 (inclusivo), en pasos de 0.1:"
   ]
  },
  {
   "cell_type": "code",
   "execution_count": 21,
   "id": "1856e9c1",
   "metadata": {},
   "outputs": [],
   "source": [
    "# possible_bs = []\n",
    "possible_bs = [i*0.1 for i in range(-200, 201)]"
   ]
  },
  {
   "cell_type": "markdown",
   "id": "03aa231b",
   "metadata": {},
   "source": [
    "Para encontrar el error más pequeño, primero tenemos que crear todas las líneas posibles (y = mx + b) a partir de todas las m y las b posibles (possible_ms y possible_bs). Después, tenemos que evaluar qué línea produce el menor error total con el conjunto de datos de los registros de los drones (datapoints)\n",
    "\n",
    "Para esto:\n",
    "\n",
    "1. Crea las variables que estaremos optimizando:\n",
    "\n",
    "- smallest_error - debería comenzar en el infinito> (float(\"inf\")) tal que cualquier error que obtengamos inicialmente sea más pequeño que smallest_error.\n",
    " \n",
    "-  best_m - puede comenzar en cero (0).\n",
    " \n",
    "-  best_b - puede comenzar en cero (0).\n",
    "\n",
    "2. Itera a través de cada elemento m en possible_ms.\n",
    "\n",
    "3. Para cada valor de m, toma cada valor de b en possible_bs.\n",
    "\n",
    "4. Si el valor retornado de la función calculate_all_error para un valor de m, b y los datapoints es menor que el smallest_error actual, cambia los valores de best_m, best_b y smallest_error.\n",
    "\n",
    "Al finalizar los ciclos anidados, la variable smallest_error debería tener el menor error encontrado, y best_m y best_b deberían ser los valores que producen el menor error.\n",
    "\n"
   ]
  },
  {
   "cell_type": "markdown",
   "id": "9829d082",
   "metadata": {},
   "source": [
    "# Parte 3: Predicciones del Modelo\n",
    "\n",
    "Utilizando los valores de m y b arrojados por nuestro algoritmo para encontrar la línea de mejor ajuste a los datos recopilados por los drones, grafica la línea energía-velocidad utilizando los siguientes comandos:\n",
    "\n",
    "\n",
    "\n",
    "from matplotlib import pyplot as plt\n",
    "\n",
    "x = [i*0.5 for i in range(0,101)]\n",
    "\n",
    "y = [m*x + b for i in x]\n",
    "\n",
    "plt.plot(x, y)\n",
    "\n",
    "plt.show()\n",
    "\n",
    "\n",
    "No olvide cambiar los valores de m y b\n",
    "\n"
   ]
  },
  {
   "cell_type": "code",
   "execution_count": 24,
   "id": "2b9a724c",
   "metadata": {},
   "outputs": [
    {
     "name": "stdout",
     "output_type": "stream",
     "text": [
      "0.0 1.0 0.0\n"
     ]
    }
   ],
   "source": [
    "# Calcular smallest_error, best_m y best_b\n",
    "smallest_error = float(\"inf\")\n",
    "best_m = 0\n",
    "best_b = 0\n",
    "for m in possible_ms:\n",
    "    for b in possible_bs:\n",
    "        actual_smallest_error = calculate_all_error(m, b, datapoints)\n",
    "        if actual_smallest_error < smallest_error:\n",
    "            smallest_error = actual_smallest_error\n",
    "            best_m = m\n",
    "            best_b = b\n",
    "print(smallest_error,best_m, best_b)"
   ]
  },
  {
   "cell_type": "code",
   "execution_count": 40,
   "id": "348354df",
   "metadata": {},
   "outputs": [
    {
     "data": {
      "image/png": "[encoded data removed]",
      "text/plain": [
       "<Figure size 432x288 with 1 Axes>"
      ]
     },
     "metadata": {
      "needs_background": "light"
     },
     "output_type": "display_data"
    }
   ],
   "source": [
    "# Gráfica de la línea de mejor ajuste\n",
    "\n",
    "from matplotlib import pyplot as plt\n",
    "x = [i*0.5 for i in range(0,101)]\n",
    "y = [2*i + 2 for i in x]\n",
    "plt.plot(x, y)\n",
    "plt.show()"
   ]
  },
  {
   "cell_type": "code",
   "execution_count": null,
   "id": "e505531c",
   "metadata": {},
   "outputs": [],
   "source": []
  }
 ],
 "metadata": {
  "kernelspec": {
   "display_name": "Python 3 (ipykernel)",
   "language": "python",
   "name": "python3"
  },
  "language_info": {
   "codemirror_mode": {
    "name": "ipython",
    "version": 3
   },
   "file_extension": ".py",
   "mimetype": "text/x-python",
   "name": "python",
   "nbconvert_exporter": "python",
   "pygments_lexer": "ipython3",
   "version": "3.9.12"
  }
 },
 "nbformat": 4,
 "nbformat_minor": 5
}
